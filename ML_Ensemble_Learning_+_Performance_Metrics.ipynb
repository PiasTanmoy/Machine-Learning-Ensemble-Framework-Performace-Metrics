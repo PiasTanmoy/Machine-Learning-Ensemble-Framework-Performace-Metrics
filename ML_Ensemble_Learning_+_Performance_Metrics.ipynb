{
  "nbformat": 4,
  "nbformat_minor": 0,
  "metadata": {
    "colab": {
      "provenance": [],
      "collapsed_sections": []
    },
    "kernelspec": {
      "name": "python3",
      "display_name": "Python 3"
    },
    "language_info": {
      "name": "python"
    },
    "accelerator": "GPU",
    "gpuClass": "standard"
  },
  "cells": [
    {
      "cell_type": "markdown",
      "metadata": {
        "id": "view-in-github"
      },
      "source": [
        "<a href=\"https://colab.research.google.com/github/PiasTanmoy/Ensemble-Learning-and-Result-Analysis/blob/main/ML_Ensemble_Learning_GPU.ipynb\" target=\"_parent\"><img src=\"https://colab.research.google.com/assets/colab-badge.svg\" alt=\"Open In Colab\"/></a>"
      ]
    },
    {
      "cell_type": "markdown",
      "source": [
        "# References\n",
        "https://towardsdatascience.com/ensembling-convnets-using-keras-237d429157eb\n",
        "\n",
        "https://github.com/PacktPublishing/Hands-On-Ensemble-Learning-with-Python/tree/master/Chapter04 \n",
        "\n",
        "https://github.com/mmxmb/keras_ensemblng/blob/master/keras_ensembling.ipynb\n",
        "\n",
        "https://www.youtube.com/watch?v=xtTyEoJ31Vg&ab_channel=UnfoldDataScience \n",
        "\n",
        "https://machinelearningmastery.com/ensemble-methods-for-deep-learning-neural-networks/ \n",
        "\n",
        "https://machinelearningmastery.com/roc-curves-and-precision-recall-curves-for-classification-in-python/"
      ],
      "metadata": {
        "id": "8Mdjw5lehUgF"
      }
    },
    {
      "cell_type": "markdown",
      "source": [
        "# Stacking - Hard Voting \n",
        "Raw code for understading"
      ],
      "metadata": {
        "id": "Adb7v9Jv0Tha"
      }
    },
    {
      "cell_type": "code",
      "execution_count": null,
      "metadata": {
        "colab": {
          "base_uri": "https://localhost:8080/"
        },
        "id": "KD0QUDD0d1i8",
        "outputId": "064f9942-4c44-4f6a-a80a-118e36e5bcd1"
      },
      "outputs": [
        {
          "output_type": "stream",
          "name": "stdout",
          "text": [
            "L1: 0.94\n",
            "L2: 0.78\n",
            "L3: 0.88\n",
            "------------------------------\n",
            "Hard Voting: 0.9\n"
          ]
        }
      ],
      "source": [
        "#  --- SECTION 1 ---\n",
        "# Import the required libraries\n",
        "from sklearn import datasets, linear_model, svm, neighbors\n",
        "from sklearn.metrics import accuracy_score\n",
        "from numpy import argmax\n",
        "# Load the dataset\n",
        "breast_cancer = datasets.load_breast_cancer()\n",
        "x, y = breast_cancer.data, breast_cancer.target\n",
        "\n",
        "#  --- SECTION 2 ---\n",
        "# Instantiate the learners (classifiers)\n",
        "learner_1 = neighbors.KNeighborsClassifier(n_neighbors=5)\n",
        "learner_2 = linear_model.Perceptron(tol=1e-2, random_state=0)\n",
        "learner_3 = svm.SVC(gamma=0.001)\n",
        "\n",
        "#  --- SECTION 3 ---\n",
        "# Split the train and test samples\n",
        "test_samples = 100\n",
        "x_train, y_train = x[:-test_samples], y[:-test_samples]\n",
        "x_test, y_test = x[-test_samples:], y[-test_samples:]\n",
        "\n",
        "# Fit learners with the train data\n",
        "learner_1.fit(x_train, y_train)\n",
        "learner_2.fit(x_train, y_train)\n",
        "learner_3.fit(x_train, y_train)\n",
        "\n",
        "#  --- SECTION 4 ---\n",
        "# Each learner predicts the classes of the test data\n",
        "predictions_1 = learner_1.predict(x_test)\n",
        "predictions_2 = learner_2.predict(x_test)\n",
        "predictions_3 = learner_3.predict(x_test)\n",
        "\n",
        "#  --- SECTION 5 ---\n",
        "# We combine the predictions with hard voting\n",
        "hard_predictions = []\n",
        "# For each predicted sample\n",
        "for i in range(test_samples):\n",
        "    # Count the votes for each class\n",
        "    counts = [0 for _ in range(2)]\n",
        "    counts[predictions_1[i]] = counts[predictions_1[i]]+1\n",
        "    counts[predictions_2[i]] = counts[predictions_2[i]]+1\n",
        "    counts[predictions_3[i]] = counts[predictions_3[i]]+1\n",
        "    # Find the class with most votes\n",
        "    final = argmax(counts)\n",
        "    # Add the class to the final predictions\n",
        "    hard_predictions.append(final)\n",
        "\n",
        "#  --- SECTION 6 ---\n",
        "# Accuracies of base learners\n",
        "print('L1:', accuracy_score(y_test, predictions_1))\n",
        "print('L2:', accuracy_score(y_test, predictions_2))\n",
        "print('L3:', accuracy_score(y_test, predictions_3))\n",
        "# Accuracy of hard voting\n",
        "print('-'*30)\n",
        "print('Hard Voting:', accuracy_score(y_test, hard_predictions))\n"
      ]
    },
    {
      "cell_type": "markdown",
      "source": [
        "# Stacking - Hard Voting \n",
        "Using Library"
      ],
      "metadata": {
        "id": "A6DYWF9m1IaK"
      }
    },
    {
      "cell_type": "code",
      "source": [
        "\n",
        "#  --- SECTION 1 ---\n",
        "# Import the required libraries\n",
        "from sklearn import datasets, naive_bayes, svm, neighbors\n",
        "from sklearn.ensemble import VotingClassifier\n",
        "from sklearn.metrics import accuracy_score\n",
        "# Load the dataset\n",
        "breast_cancer = datasets.load_breast_cancer()\n",
        "x, y = breast_cancer.data, breast_cancer.target\n",
        "\n",
        "# Split the train and test samples\n",
        "test_samples = 100\n",
        "x_train, y_train = x[:-test_samples], y[:-test_samples]\n",
        "x_test, y_test = x[-test_samples:], y[-test_samples:]\n",
        "\n",
        "#  --- SECTION 2 ---\n",
        "# Instantiate the learners (classifiers)\n",
        "learner_1 = neighbors.KNeighborsClassifier(n_neighbors=5)\n",
        "learner_2 = linear_model.Perceptron(tol=1e-2, random_state=0)\n",
        "learner_3 = svm.SVC(gamma=0.001)\n",
        "\n",
        "#  --- SECTION 3 ---\n",
        "\n",
        "\n",
        "# Instantiate the voting classifier\n",
        "voting = VotingClassifier([('KNN', learner_1),\n",
        "                           ('NB', learner_2),\n",
        "                           ('SVM', learner_3)],\n",
        "                            voting='hard')\n",
        "\n",
        "#  --- SECTION 4 ---\n",
        "# Fit classifier with the training data\n",
        "voting.fit(x_train, y_train)\n",
        "learner_1.fit(x_train, y_train)\n",
        "learner_2.fit(x_train, y_train)\n",
        "learner_3.fit(x_train, y_train)\n",
        "\n",
        "#  --- SECTION 5 ---\n",
        "# Predict the most probable class\n",
        "hard_predictions = voting.predict(x_test)\n",
        "\n",
        "#  --- SECTION 6 ---\n",
        "# Get the base learner predictions\n",
        "predictions_1 = learner_1.predict(x_test)\n",
        "predictions_2 = learner_2.predict(x_test)\n",
        "predictions_3 = learner_3.predict(x_test)\n",
        "\n",
        "#  --- SECTION 7 ---\n",
        "# Accuracies of base learners\n",
        "print('L1:', accuracy_score(y_test, predictions_1))\n",
        "print('L2:', accuracy_score(y_test, predictions_2))\n",
        "print('L3:', accuracy_score(y_test, predictions_3))\n",
        "# Accuracy of hard voting\n",
        "print('-'*30)\n",
        "print('Hard Voting:', accuracy_score(y_test, hard_predictions))"
      ],
      "metadata": {
        "colab": {
          "base_uri": "https://localhost:8080/"
        },
        "id": "cRbb0XAue-0h",
        "outputId": "08110d25-9f43-4886-fa93-655b67b614da"
      },
      "execution_count": null,
      "outputs": [
        {
          "output_type": "stream",
          "name": "stdout",
          "text": [
            "L1: 0.94\n",
            "L2: 0.78\n",
            "L3: 0.88\n",
            "------------------------------\n",
            "Hard Voting: 0.9\n"
          ]
        }
      ]
    },
    {
      "cell_type": "markdown",
      "source": [
        "# Stacking - Soft Voting \n",
        "Using Library"
      ],
      "metadata": {
        "id": "XAHPTq9c1M9i"
      }
    },
    {
      "cell_type": "code",
      "source": [
        "\n",
        "#  --- SECTION 1 ---\n",
        "# Import the required libraries\n",
        "from sklearn import datasets, naive_bayes, svm, neighbors\n",
        "from sklearn.ensemble import VotingClassifier\n",
        "from sklearn.metrics import accuracy_score\n",
        "# Load the dataset\n",
        "breast_cancer = datasets.load_breast_cancer()\n",
        "x, y = breast_cancer.data, breast_cancer.target\n",
        "\n",
        "# Split the train and test samples\n",
        "test_samples = 100\n",
        "x_train, y_train = x[:-test_samples], y[:-test_samples]\n",
        "x_test, y_test = x[-test_samples:], y[-test_samples:]\n",
        "\n",
        "#  --- SECTION 2 ---\n",
        "# Instantiate the learners (classifiers)\n",
        "learner_1 = neighbors.KNeighborsClassifier(n_neighbors=5)\n",
        "learner_2 = naive_bayes.GaussianNB()\n",
        "learner_3 = svm.SVC(gamma=0.001, probability=True)\n",
        "\n",
        "#  --- SECTION 3 ---\n",
        "\n",
        "# Instantiate the voting classifier\n",
        "voting = VotingClassifier([('KNN', learner_1),\n",
        "                           ('NB', learner_2),\n",
        "                           ('SVM', learner_3)],\n",
        "                            voting='soft')\n",
        "\n",
        "#  --- SECTION 4 ---\n",
        "# Fit classifier with the training data\n",
        "voting.fit(x_train, y_train)\n",
        "learner_1.fit(x_train, y_train)\n",
        "learner_2.fit(x_train, y_train)\n",
        "learner_3.fit(x_train, y_train)\n",
        "\n",
        "#  --- SECTION 5 ---\n",
        "# Predict the most probable class\n",
        "soft_predictions = voting.predict(x_test)\n",
        "\n",
        "#  --- SECTION 6 ---\n",
        "# Get the base learner predictions\n",
        "predictions_1 = learner_1.predict(x_test)\n",
        "predictions_2 = learner_2.predict(x_test)\n",
        "predictions_3 = learner_3.predict(x_test)\n",
        "\n",
        "#  --- SECTION 7 ---\n",
        "# Accuracies of base learners\n",
        "print('L1:', accuracy_score(y_test, predictions_1))\n",
        "print('L2:', accuracy_score(y_test, predictions_2))\n",
        "print('L3:', accuracy_score(y_test, predictions_3))\n",
        "# Accuracy of hard voting\n",
        "print('-'*30)\n",
        "print('Soft Voting:', accuracy_score(y_test, soft_predictions))\n",
        "\n"
      ],
      "metadata": {
        "colab": {
          "base_uri": "https://localhost:8080/"
        },
        "id": "4g40eXKp0qvC",
        "outputId": "8e739ef4-230e-4cf7-9fd7-1d6270368627"
      },
      "execution_count": null,
      "outputs": [
        {
          "output_type": "stream",
          "name": "stdout",
          "text": [
            "L1: 0.94\n",
            "L2: 0.96\n",
            "L3: 0.88\n",
            "------------------------------\n",
            "Soft Voting: 0.94\n"
          ]
        }
      ]
    },
    {
      "cell_type": "markdown",
      "source": [
        "# Stacking - Meta Learning"
      ],
      "metadata": {
        "id": "LGry4BKL1ckW"
      }
    },
    {
      "cell_type": "code",
      "source": [
        "#  --- SECTION 1 ---\n",
        "# Import the required libraries\n",
        "import six\n",
        "import sys\n",
        "sys.modules['sklearn.externals.six'] = six\n",
        "\n",
        "from sklearn import datasets, naive_bayes, svm, neighbors, model_selection\n",
        "from sklearn.ensemble import VotingClassifier\n",
        "from sklearn.metrics import accuracy_score\n",
        "from mlxtend.classifier import StackingClassifier \n",
        "from sklearn.linear_model import LogisticRegression\n",
        "\n",
        "# Load the dataset\n",
        "breast_cancer = datasets.load_breast_cancer()\n",
        "x, y = breast_cancer.data, breast_cancer.target\n",
        "\n",
        "# Split the train and test samples\n",
        "test_samples = 100\n",
        "x_train, y_train = x[:-test_samples], y[:-test_samples]\n",
        "x_test, y_test = x[-test_samples:], y[-test_samples:]\n",
        "\n",
        "#  --- SECTION 2 ---\n",
        "# Instantiate the learners (classifiers)\n",
        "learner_1 = neighbors.KNeighborsClassifier(n_neighbors=5)\n",
        "learner_2 = naive_bayes.GaussianNB()\n",
        "learner_3 = svm.SVC(gamma=0.001, probability=True)\n",
        "\n",
        "base_classifiers = [learner_1, learner_2, learner_3]\n",
        "\n",
        "meta_learner = LogisticRegression()\n",
        "\n",
        "#  --- SECTION 3 ---\n",
        "stacking_classifier = StackingClassifier(classifiers=base_classifiers,\n",
        "                                         meta_classifier=meta_learner)\n",
        "\n",
        "#  --- SECTION 4 ---\n",
        "# Fit classifier, Predict, and Score using K-Cross validation (Library)\n",
        "classifiers = [learner_1, learner_2, learner_3, stacking_classifier]\n",
        "classifiers_name = ['KNN', 'Naive Bayes', 'SVM', 'Stacking Classifier']\n",
        "\n",
        "scores_learner_1 = model_selection.cross_val_score(learner_1, x_train, y_train, cv=3, scoring='accuracy')\n",
        "print(\"Accuracy: %0.3f (+/- %0.3f [%s]\" % (scores_learner_1.mean(), scores_learner_1.std(), \"KNN\"))\n",
        "\n",
        "scores_learner_2 = model_selection.cross_val_score(learner_2, x_train, y_train, cv=3, scoring='accuracy')\n",
        "print(\"Accuracy: %0.3f (+/- %0.3f [%s]\" % (scores_learner_2.mean(), scores_learner_2.std(), \"Naive Bayes\"))\n",
        "\n",
        "scores_learner_3 = model_selection.cross_val_score(learner_3, x_train, y_train, cv=3, scoring='accuracy')\n",
        "print(\"Accuracy: %0.3f (+/- %0.3f [%s]\" % (scores_learner_3.mean(), scores_learner_3.std(), \"SVM\"))\n",
        "\n",
        "scores_stacking_classifier = model_selection.cross_val_score(stacking_classifier, x_train, y_train, cv=3, scoring='accuracy')\n",
        "print(\"Accuracy: %0.3f (+/- %0.3f [%s]\" % (scores_stacking_classifier.mean(), scores_stacking_classifier.std(), \"Stacking Classifier\"))\n",
        "\n",
        "print(\"-\"*50)\n",
        "\n",
        "#  --- SECTION 4 ---\n",
        "# Alternative using loop. This is useful for large number of classifiers. \n",
        "for classifier, name in zip(classifiers, classifiers_name):\n",
        "  scores = model_selection.cross_val_score(classifier, x_train, y_train, cv=3, scoring='accuracy')\n",
        "  print(\"Accuracy: %0.3f (+/- %0.3f [%s]\" % (scores.mean(), scores.std(), name))"
      ],
      "metadata": {
        "colab": {
          "base_uri": "https://localhost:8080/"
        },
        "id": "TgVSP1VN1f-L",
        "outputId": "14e17e0b-47a5-4f74-f022-ca455b805ca7"
      },
      "execution_count": null,
      "outputs": [
        {
          "output_type": "stream",
          "name": "stdout",
          "text": [
            "Accuracy: 0.928 (+/- 0.030 [KNN]\n",
            "Accuracy: 0.940 (+/- 0.017 [Naive Bayes]\n",
            "Accuracy: 0.919 (+/- 0.008 [SVM]\n",
            "Accuracy: 0.934 (+/- 0.021 [Stacking Classifier]\n",
            "--------------------------------------------------\n",
            "Accuracy: 0.928 (+/- 0.030 [KNN]\n",
            "Accuracy: 0.940 (+/- 0.017 [Naive Bayes]\n",
            "Accuracy: 0.919 (+/- 0.008 [SVM]\n",
            "Accuracy: 0.934 (+/- 0.021 [Stacking Classifier]\n"
          ]
        }
      ]
    },
    {
      "cell_type": "markdown",
      "source": [
        "# Meta Learning - Binary Class"
      ],
      "metadata": {
        "id": "KwOWuCR83__F"
      }
    },
    {
      "cell_type": "code",
      "source": [
        "# --- SECTION 1 ---\n",
        "# Libraries and data loading\n",
        "from sklearn.datasets import load_breast_cancer\n",
        "from sklearn.neighbors import KNeighborsClassifier\n",
        "from sklearn.tree import DecisionTreeClassifier\n",
        "from sklearn.neural_network import MLPClassifier\n",
        "from sklearn.naive_bayes import GaussianNB\n",
        "from sklearn.linear_model import LogisticRegression\n",
        "from sklearn.model_selection import KFold\n",
        "from sklearn import metrics\n",
        "import numpy as np\n",
        "import warnings\n",
        "warnings.filterwarnings('ignore')\n",
        "\n",
        "bc = load_breast_cancer()\n",
        "\n",
        "\n",
        "train_x, train_y = bc.data[:400], bc.target[:400]\n",
        "test_x, test_y = bc.data[400:], bc.target[400:]\n",
        "\n",
        "# --- SECTION 2 ---\n",
        "# Create the ensemble's base learners and meta learner\n",
        "# Append base learners to a list for ease of access\n",
        "base_learners = []\n",
        "\n",
        "knn = KNeighborsClassifier(n_neighbors=2)\n",
        "base_learners.append(knn)\n",
        "\n",
        "dtr = DecisionTreeClassifier(max_depth=4, random_state=123456)\n",
        "base_learners.append(dtr)\n",
        "\n",
        "mlpc = MLPClassifier(hidden_layer_sizes =(100, ), solver='lbfgs', random_state=123456)\n",
        "base_learners.append(mlpc)\n",
        "\n",
        "meta_learner = LogisticRegression(solver='lbfgs')\n",
        "\n",
        "\n",
        "# --- SECTION 3 ---\n",
        "# Create the training meta data\n",
        "\n",
        "# Create variables to store meta data and their targets\n",
        "meta_data = np.zeros((len(base_learners), len(train_x)))\n",
        "meta_targets = np.zeros(len(train_x))\n",
        "\n",
        "# Create the cross-validation folds\n",
        "KF = KFold(n_splits=5)\n",
        "meta_index = 0\n",
        "for train_indices, test_indices in KF.split(train_x):\n",
        "    # Train each learner on the K-1 folds and create meta data for the Kth fold\n",
        "    for i in range(len(base_learners)):\n",
        "        learner = base_learners[i]\n",
        "\n",
        "        learner.fit(train_x[train_indices], train_y[train_indices])\n",
        "        predictions = learner.predict_proba(train_x[test_indices])[:,0]\n",
        "\n",
        "        meta_data[i][meta_index:meta_index+len(test_indices)] = predictions\n",
        "\n",
        "    meta_targets[meta_index:meta_index+len(test_indices)] = train_y[test_indices]\n",
        "    meta_index += len(test_indices)\n",
        "\n",
        "# Transpose the meta data to be fed into the meta learner\n",
        "meta_data = meta_data.transpose()\n",
        "\n",
        "# --- SECTION 4 ---\n",
        "# Create the meta data for the test set and evaluate the base learners\n",
        "test_meta_data = np.zeros((len(base_learners), len(test_x)))\n",
        "base_acc = []\n",
        "for i in range(len(base_learners)):\n",
        "    learner = base_learners[i]\n",
        "    learner.fit(train_x, train_y)\n",
        "    predictions = learner.predict_proba(test_x)[:,0]\n",
        "    test_meta_data[i] = predictions\n",
        "\n",
        "    acc = metrics.accuracy_score(test_y, learner.predict(test_x))\n",
        "\n",
        "\n",
        "    base_acc.append(acc)\n",
        "\n",
        "test_meta_data = test_meta_data.transpose()\n",
        "\n",
        "# --- SECTION 5 ---\n",
        "# Fit the meta learner on the train set and evaluate it on the test set\n",
        "meta_learner.fit(meta_data, meta_targets)\n",
        "ensemble_predictions = meta_learner.predict(test_meta_data)\n",
        "\n",
        "acc = metrics.accuracy_score(test_y, ensemble_predictions)\n",
        "\n",
        "# --- SECTION 6 ---\n",
        "# Print the results\n",
        "print('Acc  Name')\n",
        "print('-'*20)\n",
        "for i in range(len(base_learners)):\n",
        "    learner = base_learners[i]\n",
        "\n",
        "    print(f'{base_acc[i]:.2f} {learner.__class__.__name__}')\n",
        "print(f'{acc:.2f} Ensemble')"
      ],
      "metadata": {
        "colab": {
          "base_uri": "https://localhost:8080/"
        },
        "id": "ImBxek-Kn_fM",
        "outputId": "bf47ccdb-bab7-456f-862e-c27f87baf219"
      },
      "execution_count": null,
      "outputs": [
        {
          "output_type": "stream",
          "name": "stdout",
          "text": [
            "Acc  Name\n",
            "--------------------\n",
            "0.86 KNeighborsClassifier\n",
            "0.88 DecisionTreeClassifier\n",
            "0.90 MLPClassifier\n",
            "0.94 Ensemble\n"
          ]
        }
      ]
    },
    {
      "cell_type": "markdown",
      "source": [
        "# Meta Learning - Multiclass"
      ],
      "metadata": {
        "id": "ymv9bcsqvPE6"
      }
    },
    {
      "cell_type": "code",
      "source": [
        "# --- SECTION 1 ---\n",
        "# Libraries and data loading\n",
        "from sklearn.datasets import load_breast_cancer\n",
        "from sklearn.neighbors import KNeighborsClassifier\n",
        "from sklearn.tree import DecisionTreeClassifier\n",
        "from sklearn.neural_network import MLPClassifier\n",
        "from sklearn.naive_bayes import GaussianNB\n",
        "from sklearn.linear_model import LogisticRegression\n",
        "from sklearn.model_selection import KFold\n",
        "from sklearn import metrics\n",
        "from sklearn.model_selection import train_test_split\n",
        "import numpy as np\n",
        "import warnings\n",
        "warnings.filterwarnings('ignore')\n",
        "\n",
        "bc = load_breast_cancer()\n",
        "X = bc.data\n",
        "y = bc.target\n",
        "\n",
        "train_x, train_y = bc.data[:400], bc.target[:400]\n",
        "test_x, test_y = bc.data[400:], bc.target[400:]\n",
        "\n",
        "train_x, test_x, train_y, test_y = train_test_split(X, y, test_size=0.2, random_state=123456)\n",
        "\n",
        "# --- SECTION 2 ---\n",
        "# Create the ensemble's base learners and meta learner\n",
        "# Append base learners to a list for ease of access\n",
        "base_learners = []\n",
        "\n",
        "knn = KNeighborsClassifier(n_neighbors=2)\n",
        "base_learners.append(knn)\n",
        "\n",
        "dtr = DecisionTreeClassifier(max_depth=4, random_state=123456)\n",
        "base_learners.append(dtr)\n",
        "\n",
        "mlpc = MLPClassifier(hidden_layer_sizes =(100, ), solver='lbfgs', random_state=123456)\n",
        "base_learners.append(mlpc)\n",
        "\n",
        "meta_learner = LogisticRegression(solver='lbfgs')\n",
        "\n",
        "\n",
        "# --- SECTION 3 ---\n",
        "# Create the training meta data\n",
        "\n",
        "# Create variables to store meta data and their targets\n",
        "n_class = 2\n",
        "meta_data = np.zeros((len(base_learners)*n_class, len(train_x)))\n",
        "meta_targets = np.zeros(len(train_x))\n",
        "\n",
        "# Create the cross-validation folds\n",
        "KF = KFold(n_splits=5)\n",
        "meta_index = 0\n",
        "for train_indices, test_indices in KF.split(train_x):\n",
        "    # Train each learner on the K-1 folds and create meta data for the Kth fold\n",
        "    for i in range(len(base_learners)):\n",
        "        learner = base_learners[i]\n",
        "\n",
        "        learner.fit(train_x[train_indices], train_y[train_indices])\n",
        "        predictions = learner.predict_proba(train_x[test_indices])\n",
        "\n",
        "        for c in range(n_class):\n",
        "          meta_data[i+c][meta_index:meta_index+len(test_indices)] = predictions[:, c]\n",
        "\n",
        "    meta_targets[meta_index:meta_index+len(test_indices)] = train_y[test_indices]\n",
        "    meta_index += len(test_indices)\n",
        "\n",
        "# Transpose the meta data to be fed into the meta learner\n",
        "meta_data = meta_data.transpose()\n",
        "\n",
        "# --- SECTION 4 ---\n",
        "# Create the meta data for the test set and evaluate the base learners\n",
        "test_meta_data = np.zeros((len(base_learners)*n_class, len(test_x)))\n",
        "base_acc = []\n",
        "for i in range(len(base_learners)):\n",
        "    learner = base_learners[i]\n",
        "    learner.fit(train_x, train_y)\n",
        "    predictions = learner.predict_proba(test_x)\n",
        "\n",
        "    for c in range(n_class):\n",
        "      test_meta_data[i+c] = predictions[:,c]\n",
        "\n",
        "    acc = metrics.accuracy_score(test_y, learner.predict(test_x))\n",
        "    base_acc.append(acc)\n",
        "\n",
        "test_meta_data = test_meta_data.transpose()\n",
        "\n",
        "\n",
        "# --- SECTION 5 ---\n",
        "# Fit the meta learner on the train set and evaluate it on the test set\n",
        "meta_learner.fit(meta_data, meta_targets)\n",
        "pred_y = meta_learner.predict(test_meta_data)\n",
        "pred_pr_y = meta_learner.predict_proba(test_meta_data)\n",
        "\n",
        "\n",
        "acc = metrics.accuracy_score(test_y, pred_y)\n",
        "\n",
        "# --- SECTION 6 ---\n",
        "# Print the results\n",
        "print('Acc  Name')\n",
        "print('-'*20) \n",
        "for i in range(len(base_learners)):\n",
        "    learner = base_learners[i]\n",
        "\n",
        "    print(f'{base_acc[i]:.2f} {learner.__class__.__name__}')\n",
        "print(f'{acc:.2f} Ensemble')"
      ],
      "metadata": {
        "colab": {
          "base_uri": "https://localhost:8080/"
        },
        "id": "UT8lSBKGo9Eg",
        "outputId": "1c30139b-b309-4d4f-a8d8-8c4d5b99046c"
      },
      "execution_count": null,
      "outputs": [
        {
          "output_type": "stream",
          "name": "stdout",
          "text": [
            "Acc  Name\n",
            "--------------------\n",
            "0.89 KNeighborsClassifier\n",
            "0.93 DecisionTreeClassifier\n",
            "0.92 MLPClassifier\n",
            "0.94 Ensemble\n"
          ]
        }
      ]
    },
    {
      "cell_type": "markdown",
      "source": [
        "# Result Analysis"
      ],
      "metadata": {
        "id": "fij3EMc232nP"
      }
    },
    {
      "cell_type": "code",
      "source": [
        "from sklearn.metrics import classification_report\n",
        "print(classification_report(test_y, pred_y))"
      ],
      "metadata": {
        "colab": {
          "base_uri": "https://localhost:8080/"
        },
        "id": "3Iyos5sxv8t2",
        "outputId": "af551f24-cacd-4716-df50-1ddb9a3c70f5"
      },
      "execution_count": null,
      "outputs": [
        {
          "output_type": "stream",
          "name": "stdout",
          "text": [
            "              precision    recall  f1-score   support\n",
            "\n",
            "           0       0.95      0.88      0.92        43\n",
            "           1       0.93      0.97      0.95        71\n",
            "\n",
            "    accuracy                           0.94       114\n",
            "   macro avg       0.94      0.93      0.93       114\n",
            "weighted avg       0.94      0.94      0.94       114\n",
            "\n"
          ]
        }
      ]
    },
    {
      "cell_type": "code",
      "source": [
        "from sklearn.metrics import accuracy_score\n",
        "accuracy_score(test_y, pred_y)"
      ],
      "metadata": {
        "colab": {
          "base_uri": "https://localhost:8080/"
        },
        "id": "UHqDOtalwR95",
        "outputId": "957477cc-0a37-48be-cd6d-2d60433989a2"
      },
      "execution_count": null,
      "outputs": [
        {
          "output_type": "execute_result",
          "data": {
            "text/plain": [
              "0.9385964912280702"
            ]
          },
          "metadata": {},
          "execution_count": 24
        }
      ]
    },
    {
      "cell_type": "code",
      "source": [
        "from sklearn import metrics\n",
        "fpr, tpr, thresholds = metrics.roc_curve(test_y, pred_y, pos_label=1)\n",
        "metrics.auc(fpr, tpr)"
      ],
      "metadata": {
        "colab": {
          "base_uri": "https://localhost:8080/"
        },
        "id": "Y_hVmyXF2KxB",
        "outputId": "6816b26f-5644-4161-997f-09470efbd433"
      },
      "execution_count": null,
      "outputs": [
        {
          "output_type": "execute_result",
          "data": {
            "text/plain": [
              "0.9277759580740256"
            ]
          },
          "metadata": {},
          "execution_count": 29
        }
      ]
    },
    {
      "cell_type": "code",
      "source": [
        "from sklearn import metrics\n",
        "from sklearn.metrics import roc_auc_score\n",
        "roc_auc_score(test_y, pred_y)"
      ],
      "metadata": {
        "colab": {
          "base_uri": "https://localhost:8080/"
        },
        "id": "L0g8ZP2PyAMV",
        "outputId": "26ac33c9-7ec5-446e-a21b-f3639f291f0c"
      },
      "execution_count": null,
      "outputs": [
        {
          "output_type": "execute_result",
          "data": {
            "text/plain": [
              "0.9277759580740256"
            ]
          },
          "metadata": {},
          "execution_count": 26
        }
      ]
    },
    {
      "cell_type": "code",
      "source": [
        "from sklearn.metrics import precision_recall_curve, auc\n",
        "precision, recall, thresholds = precision_recall_curve(test_y, pred_y)\n",
        "auc(recall, precision)"
      ],
      "metadata": {
        "colab": {
          "base_uri": "https://localhost:8080/"
        },
        "id": "jktCmWNm2QC0",
        "outputId": "4707f744-d700-4733-8ef4-ece5dfb6bf0b"
      },
      "execution_count": null,
      "outputs": [
        {
          "output_type": "execute_result",
          "data": {
            "text/plain": [
              "0.9609036389985242"
            ]
          },
          "metadata": {},
          "execution_count": 31
        }
      ]
    },
    {
      "cell_type": "code",
      "source": [
        "from sklearn.metrics import average_precision_score\n",
        "average_precision_score(test_y, pred_y)"
      ],
      "metadata": {
        "colab": {
          "base_uri": "https://localhost:8080/"
        },
        "id": "DBAOjXwh07pQ",
        "outputId": "c4b212a4-4ecb-42f3-f6e0-75552666f346"
      },
      "execution_count": null,
      "outputs": [
        {
          "output_type": "execute_result",
          "data": {
            "text/plain": [
              "0.9237105897595149"
            ]
          },
          "metadata": {},
          "execution_count": 28
        }
      ]
    },
    {
      "cell_type": "code",
      "source": [
        "from sklearn.metrics import balanced_accuracy_score\n",
        "balanced_accuracy_score(test_y, pred_y)"
      ],
      "metadata": {
        "colab": {
          "base_uri": "https://localhost:8080/"
        },
        "id": "DXZPGqYu20x5",
        "outputId": "1e50753f-d22b-40e5-eb76-1929f178d019"
      },
      "execution_count": null,
      "outputs": [
        {
          "output_type": "execute_result",
          "data": {
            "text/plain": [
              "0.9277759580740256"
            ]
          },
          "metadata": {},
          "execution_count": 33
        }
      ]
    },
    {
      "cell_type": "code",
      "source": [
        "from sklearn.metrics import confusion_matrix\n",
        "cf = confusion_matrix(test_y, pred_y)\n",
        "cf"
      ],
      "metadata": {
        "colab": {
          "base_uri": "https://localhost:8080/"
        },
        "id": "Zb4lzMmZ3xBi",
        "outputId": "bb918d46-c298-4ee2-f1c0-d47dda7b023c"
      },
      "execution_count": null,
      "outputs": [
        {
          "output_type": "execute_result",
          "data": {
            "text/plain": [
              "array([[38,  5],\n",
              "       [ 2, 69]])"
            ]
          },
          "metadata": {},
          "execution_count": 34
        }
      ]
    },
    {
      "cell_type": "code",
      "source": [
        "def counts_from_confusion(confusion):\n",
        "    \"\"\"\n",
        "    Obtain TP, FN FP, and TN for each class in the confusion matrix\n",
        "    \"\"\"\n",
        "\n",
        "    counts_list = []\n",
        "\n",
        "    # Iterate through classes and store the counts\n",
        "    for i in range(confusion.shape[0]):\n",
        "        tp = confusion[i, i]\n",
        "\n",
        "        fn_mask = np.zeros(confusion.shape)\n",
        "        fn_mask[i, :] = 1\n",
        "        fn_mask[i, i] = 0\n",
        "        fn = np.sum(np.multiply(confusion, fn_mask))\n",
        "\n",
        "        fp_mask = np.zeros(confusion.shape)\n",
        "        fp_mask[:, i] = 1\n",
        "        fp_mask[i, i] = 0\n",
        "        fp = np.sum(np.multiply(confusion, fp_mask))\n",
        "\n",
        "        tn_mask = 1 - (fn_mask + fp_mask)\n",
        "        tn_mask[i, i] = 0\n",
        "        tn = np.sum(np.multiply(confusion, tn_mask))\n",
        "\n",
        "        counts_list.append({'Class': i,\n",
        "                            'TP': tp,\n",
        "                            'FN': fn,\n",
        "                            'FP': fp})\n",
        "\n",
        "    return counts_list\n",
        "counts_from_confusion(cf)"
      ],
      "metadata": {
        "colab": {
          "base_uri": "https://localhost:8080/"
        },
        "id": "5FjigWqx3yqO",
        "outputId": "5306f8ec-cd30-48a8-8b73-5753ddd04f76"
      },
      "execution_count": null,
      "outputs": [
        {
          "output_type": "execute_result",
          "data": {
            "text/plain": [
              "[{'Class': 0, 'FN': 5.0, 'FP': 2.0, 'TP': 38},\n",
              " {'Class': 1, 'FN': 2.0, 'FP': 5.0, 'TP': 69}]"
            ]
          },
          "metadata": {},
          "execution_count": 35
        }
      ]
    },
    {
      "cell_type": "markdown",
      "source": [
        "# AU-ROC"
      ],
      "metadata": {
        "id": "rkvMJP2x6E82"
      }
    },
    {
      "cell_type": "code",
      "source": [
        "# roc curve and auc\n",
        "from sklearn.datasets import make_classification\n",
        "from sklearn.linear_model import LogisticRegression\n",
        "from sklearn.model_selection import train_test_split\n",
        "from sklearn.metrics import roc_curve\n",
        "from sklearn.metrics import roc_auc_score\n",
        "from matplotlib import pyplot\n",
        "\n",
        "\n",
        "\n",
        "# generate a no skill prediction (majority class)\n",
        "ns_probs = [0 for _ in range(len(test_y))]\n",
        "\n",
        "\n",
        "# keep probabilities for the positive outcome only\n",
        "lr_probs = pred_pr_y[:, 1]\n",
        "# calculate scores\n",
        "ns_auc = roc_auc_score(test_y, ns_probs)\n",
        "lr_auc = roc_auc_score(test_y, pred_y)\n",
        "# summarize scores\n",
        "print('No Skill: ROC AUC=%.3f' % (ns_auc))\n",
        "print('Logistic: ROC AUC=%.3f' % (lr_auc))\n",
        "\n",
        "\n",
        "# calculate roc curves\n",
        "ns_fpr, ns_tpr, _ = roc_curve(test_y, ns_probs)\n",
        "lr_fpr, lr_tpr, _ = roc_curve(test_y, lr_probs)\n",
        "\n",
        "\n",
        "# plot the roc curve for the model\n",
        "pyplot.plot(ns_fpr, ns_tpr, linestyle='--', label='No Skill')\n",
        "pyplot.plot(lr_fpr, lr_tpr, marker='.', label='Logistic')\n",
        "# axis labels\n",
        "pyplot.xlabel('False Positive Rate')\n",
        "pyplot.ylabel('True Positive Rate')\n",
        "# show the legend\n",
        "pyplot.legend()\n",
        "# show the plot\n",
        "pyplot.show()"
      ],
      "metadata": {
        "colab": {
          "base_uri": "https://localhost:8080/",
          "height": 314
        },
        "id": "0ugX6Cuf4UAZ",
        "outputId": "0b82850f-ac0c-4774-e975-95e34963bae8"
      },
      "execution_count": null,
      "outputs": [
        {
          "output_type": "stream",
          "name": "stdout",
          "text": [
            "No Skill: ROC AUC=0.500\n",
            "Logistic: ROC AUC=0.928\n"
          ]
        },
        {
          "output_type": "display_data",
          "data": {
            "text/plain": [
              "<Figure size 432x288 with 1 Axes>"
            ],
            "image/png": "[encoded data removed]"
          },
          "metadata": {
            "needs_background": "light"
          }
        }
      ]
    },
    {
      "cell_type": "markdown",
      "source": [
        "# AU-PRC"
      ],
      "metadata": {
        "id": "VjkSwV6q6JGJ"
      }
    },
    {
      "cell_type": "code",
      "source": [
        "# precision-recall curve and f1\n",
        "from sklearn.datasets import make_classification\n",
        "from sklearn.linear_model import LogisticRegression\n",
        "from sklearn.model_selection import train_test_split\n",
        "from sklearn.metrics import precision_recall_curve\n",
        "from sklearn.metrics import f1_score\n",
        "from sklearn.metrics import auc\n",
        "from matplotlib import pyplot\n",
        "\n",
        "lr_probs = pred_pr_y[:, 1]\n",
        "# predict class values\n",
        "yhat = pred_y\n",
        "lr_precision, lr_recall, _ = precision_recall_curve(test_y, lr_probs)\n",
        "lr_f1, lr_auc = f1_score(test_y, yhat), auc(lr_recall, lr_precision)\n",
        "# summarize scores\n",
        "print('Logistic: f1=%.3f auc=%.3f' % (lr_f1, lr_auc))\n",
        "# plot the precision-recall curves\n",
        "no_skill = len(test_y[test_y==1]) / len(test_y)\n",
        "pyplot.plot([0, 1], [no_skill, no_skill], linestyle='--', label='No Skill')\n",
        "pyplot.plot(lr_recall, lr_precision, marker='.', label='Logistic')\n",
        "# axis labels\n",
        "pyplot.xlabel('Recall')\n",
        "pyplot.ylabel('Precision')\n",
        "# show the legend\n",
        "pyplot.legend()\n",
        "# show the plot\n",
        "pyplot.show()"
      ],
      "metadata": {
        "colab": {
          "base_uri": "https://localhost:8080/",
          "height": 296
        },
        "id": "lnwFpOG-5x78",
        "outputId": "a74d736a-a899-4b09-d777-2676a542ea61"
      },
      "execution_count": null,
      "outputs": [
        {
          "output_type": "stream",
          "name": "stdout",
          "text": [
            "Logistic: f1=0.952 auc=0.987\n"
          ]
        },
        {
          "output_type": "display_data",
          "data": {
            "text/plain": [
              "<Figure size 432x288 with 1 Axes>"
            ],
            "image/png": "[encoded data removed]"
          },
          "metadata": {
            "needs_background": "light"
          }
        }
      ]
    },
    {
      "cell_type": "markdown",
      "source": [
        "# Meta Learning - Neural Network"
      ],
      "metadata": {
        "id": "7MzeibSoOFfj"
      }
    },
    {
      "cell_type": "code",
      "source": [
        "import tensorflow as tf\n",
        "from keras.callbacks import History\n",
        "from keras.callbacks import ModelCheckpoint, TensorBoard\n",
        "from keras.datasets import cifar10\n",
        "from keras.engine import training\n",
        "from keras.layers import Conv2D, MaxPooling2D, GlobalAveragePooling2D, Dropout, Activation, Average\n",
        "from keras.losses import categorical_crossentropy\n",
        "from keras.models import Model, Input\n",
        "from tensorflow.keras.optimizers import Adam\n",
        "from tensorflow.keras.utils import to_categorical\n",
        "from tensorflow.python.framework.ops import Tensor\n",
        "from typing import Tuple, List\n",
        "import glob\n",
        "import numpy as np\n",
        "import os"
      ],
      "metadata": {
        "id": "0q4I468oQbZQ"
      },
      "execution_count": null,
      "outputs": []
    },
    {
      "cell_type": "code",
      "source": [
        "from keras.models import Sequential\n",
        "from keras.layers import Dense\n",
        "\n",
        "def model(model_input = 30):\n",
        "  \n",
        "  model = Sequential()\n",
        "  model.add(Dense(64, input_dim=model_input, activation='relu'))\n",
        "  model.add(Dense(8, activation='relu'))\n",
        "  model.add(Dense(2, activation=\"softmax\"))\n",
        "  \n",
        "  return model\n"
      ],
      "metadata": {
        "id": "jym0PN5TBqZG"
      },
      "execution_count": null,
      "outputs": []
    },
    {
      "cell_type": "code",
      "source": [
        "model_input = Input(shape=30)\n",
        "model1 = model(model_input)\n",
        "model1.compile(\"adam\", \"categorical_crossentropy\", metrics=[\"accuracy\"])\n",
        "model1.fit(X, Y, epochs=10, verbose=0)\n",
        "model1.evaluate(X, Y, verbose=0)[1]"
      ],
      "metadata": {
        "colab": {
          "base_uri": "https://localhost:8080/"
        },
        "id": "8KhCAMOT7k2u",
        "outputId": "9c8faec3-043e-43a2-fe26-e09e43adfe2d"
      },
      "execution_count": null,
      "outputs": [
        {
          "output_type": "execute_result",
          "data": {
            "text/plain": [
              "0.9156414866447449"
            ]
          },
          "metadata": {},
          "execution_count": 84
        }
      ]
    },
    {
      "cell_type": "code",
      "source": [
        "model_input = Input(shape=30)\n",
        "model2 = model(model_input)\n",
        "model2.compile(\"adam\", \"categorical_crossentropy\", metrics=[\"accuracy\"])\n",
        "model2.fit(X, Y, epochs=20, verbose=0)\n",
        "model2.evaluate(X, Y, verbose=0)[1]"
      ],
      "metadata": {
        "colab": {
          "base_uri": "https://localhost:8080/"
        },
        "id": "pq8aWTsB8WAA",
        "outputId": "77bf798f-b33b-447c-cf8a-33630d114967"
      },
      "execution_count": null,
      "outputs": [
        {
          "output_type": "execute_result",
          "data": {
            "text/plain": [
              "0.9384886026382446"
            ]
          },
          "metadata": {},
          "execution_count": 85
        }
      ]
    },
    {
      "cell_type": "code",
      "source": [
        "model_input = Input(shape=30)\n",
        "model3 = model(model_input)\n",
        "model3.compile(\"adam\", \"categorical_crossentropy\", metrics=[\"accuracy\"])\n",
        "model3.fit(X, Y, epochs=50, verbose=0)\n",
        "model3.evaluate(X, Y, verbose=0)[1]"
      ],
      "metadata": {
        "colab": {
          "base_uri": "https://localhost:8080/"
        },
        "id": "prHepdFg-2Nx",
        "outputId": "7a1cfeb0-ab3e-4ac0-bf00-5578831d2122"
      },
      "execution_count": null,
      "outputs": [
        {
          "output_type": "execute_result",
          "data": {
            "text/plain": [
              "0.9314587116241455"
            ]
          },
          "metadata": {},
          "execution_count": 86
        }
      ]
    },
    {
      "cell_type": "code",
      "source": [
        "# --- SECTION 1 ---\n",
        "# Libraries and data loading\n",
        "from sklearn.datasets import load_breast_cancer\n",
        "from sklearn.neighbors import KNeighborsClassifier\n",
        "from sklearn.tree import DecisionTreeClassifier\n",
        "from sklearn.neural_network import MLPClassifier\n",
        "from sklearn.naive_bayes import GaussianNB\n",
        "from sklearn.linear_model import LogisticRegression\n",
        "from sklearn.model_selection import KFold\n",
        "from sklearn import metrics\n",
        "from sklearn.model_selection import train_test_split\n",
        "from tensorflow.keras.utils import to_categorical \n",
        "import numpy as np\n",
        "import warnings\n",
        "warnings.filterwarnings('ignore')\n",
        "\n",
        "bc = load_breast_cancer()\n",
        "X = bc.data\n",
        "y = bc.target\n",
        "\n",
        "train_x, train_y = bc.data[:400], bc.target[:400]\n",
        "test_x, test_y = bc.data[400:], bc.target[400:]\n",
        "\n",
        "train_x, test_x, train_y, test_y = train_test_split(X, y, test_size=0.2, random_state=123456)\n",
        "\n",
        "train_y = to_categorical(train_y)\n",
        "\n",
        "model_input = X.shape[1]\n",
        "n_class = 2\n",
        "\n",
        "# --- SECTION 2 ---\n",
        "# Create the ensemble's base learners and meta learner\n",
        "# Append base learners to a list for ease of access\n",
        "base_learners = []\n",
        "\n",
        "model1 = model(model_input)\n",
        "model1.compile(\"adam\", \"categorical_crossentropy\", metrics=[\"accuracy\"])\n",
        "base_learners.append(model1)\n",
        "\n",
        "model2 = model(model_input)\n",
        "model2.compile(\"adam\", \"categorical_crossentropy\", metrics=[\"accuracy\"])\n",
        "base_learners.append(model2)\n",
        "\n",
        "model3 = model(model_input)\n",
        "model3.compile(\"adam\", \"categorical_crossentropy\", metrics=[\"accuracy\"])\n",
        "base_learners.append(model3)\n",
        "\n",
        "meta_learner = model(len(base_learners)*n_class)\n",
        "meta_learner.compile(\"adam\", \"categorical_crossentropy\", metrics=[\"accuracy\"])\n",
        "\n",
        "# --- SECTION 3 ---\n",
        "# Create the training meta data\n",
        "\n",
        "# Create variables to store meta data and their targets\n",
        "\n",
        "meta_data = np.zeros((len(base_learners)*n_class, len(train_x)))\n",
        "meta_targets = np.zeros( (len(train_x),n_class) )\n",
        "\n",
        "# Create the cross-validation folds\n",
        "KF = KFold(n_splits=5)\n",
        "meta_index = 0\n",
        "for train_indices, test_indices in KF.split(train_x):\n",
        "    # Train each learner on the K-1 folds and create meta data for the Kth fold\n",
        "    for i in range(len(base_learners)):\n",
        "        learner = base_learners[i]\n",
        "\n",
        "        learner.fit(train_x[train_indices], train_y[train_indices])\n",
        "        predictions = learner.predict_generator(train_x[test_indices])\n",
        "\n",
        "        for c in range(n_class):\n",
        "          meta_data[i+c][meta_index:meta_index+len(test_indices)] = predictions[:, c]\n",
        "\n",
        "    meta_targets[meta_index:meta_index+len(test_indices)] = train_y[test_indices]\n",
        "    meta_index += len(test_indices)\n",
        "\n",
        "# Transpose the meta data to be fed into the meta learner\n",
        "meta_data = meta_data.transpose()\n",
        "meta_data.shape, meta_targets.shape"
      ],
      "metadata": {
        "colab": {
          "base_uri": "https://localhost:8080/"
        },
        "id": "QyYvPzVI_GPv",
        "outputId": "4a2178b4-6e4c-4991-f4c3-15563557ce3b"
      },
      "execution_count": null,
      "outputs": [
        {
          "output_type": "stream",
          "name": "stdout",
          "text": [
            "12/12 [==============================] - 1s 4ms/step - loss: 1.7521 - accuracy: 0.4643\n",
            "12/12 [==============================] - 1s 6ms/step - loss: 12.5909 - accuracy: 0.5769\n",
            "12/12 [==============================] - 1s 6ms/step - loss: 4.0169 - accuracy: 0.5934\n",
            "12/12 [==============================] - 0s 4ms/step - loss: 0.6842 - accuracy: 0.6291\n",
            "12/12 [==============================] - 0s 4ms/step - loss: 1.7264 - accuracy: 0.7363\n",
            "12/12 [==============================] - 0s 6ms/step - loss: 1.5917 - accuracy: 0.7500\n",
            "12/12 [==============================] - 0s 4ms/step - loss: 0.6840 - accuracy: 0.6456\n",
            "12/12 [==============================] - 0s 3ms/step - loss: 0.4392 - accuracy: 0.9038\n",
            "12/12 [==============================] - 0s 3ms/step - loss: 0.8789 - accuracy: 0.7747\n",
            "12/12 [==============================] - 0s 3ms/step - loss: 0.6832 - accuracy: 0.6401\n",
            "12/12 [==============================] - 0s 3ms/step - loss: 0.3303 - accuracy: 0.9093\n",
            "12/12 [==============================] - 0s 3ms/step - loss: 0.8982 - accuracy: 0.8214\n",
            "12/12 [==============================] - 0s 3ms/step - loss: 0.6835 - accuracy: 0.6319\n",
            "12/12 [==============================] - 0s 3ms/step - loss: 0.3151 - accuracy: 0.9231\n",
            "12/12 [==============================] - 0s 3ms/step - loss: 0.5978 - accuracy: 0.8681\n"
          ]
        },
        {
          "output_type": "execute_result",
          "data": {
            "text/plain": [
              "((455, 6), (455, 2))"
            ]
          },
          "metadata": {},
          "execution_count": 123
        }
      ]
    },
    {
      "cell_type": "code",
      "source": [
        "\n",
        "# --- SECTION 4 ---\n",
        "# Create the meta data for the test set and evaluate the base learners\n",
        "test_meta_data = np.zeros((len(base_learners)*n_class, len(test_x)))\n",
        "base_acc = []\n",
        "for i in range(len(base_learners)):\n",
        "    learner = base_learners[i]\n",
        "    learner.fit(train_x, train_y)\n",
        "    predictions = learner.predict_generator(test_x)\n",
        "\n",
        "    for c in range(n_class):\n",
        "      test_meta_data[i+c] = predictions[:,c]\n",
        "\n",
        "    pred_y = np.argmax(learner.predict(test_x), axis=1)\n",
        "    acc = metrics.accuracy_score(test_y, pred_y)\n",
        "    base_acc.append(acc)\n",
        "\n",
        "test_meta_data = test_meta_data.transpose()\n",
        "test_meta_data.shape"
      ],
      "metadata": {
        "colab": {
          "base_uri": "https://localhost:8080/"
        },
        "id": "qLcJ5PAyIspD",
        "outputId": "14d22805-a10b-416a-cd8b-664dc9e594f7"
      },
      "execution_count": null,
      "outputs": [
        {
          "output_type": "stream",
          "name": "stdout",
          "text": [
            "15/15 [==============================] - 0s 3ms/step - loss: 0.6807 - accuracy: 0.6330\n",
            "15/15 [==============================] - 0s 3ms/step - loss: 0.2956 - accuracy: 0.9077\n",
            "15/15 [==============================] - 0s 3ms/step - loss: 0.5494 - accuracy: 0.8527\n"
          ]
        },
        {
          "output_type": "execute_result",
          "data": {
            "text/plain": [
              "(114, 6)"
            ]
          },
          "metadata": {},
          "execution_count": 124
        }
      ]
    },
    {
      "cell_type": "code",
      "source": [
        "# --- SECTION 5 ---\n",
        "# Fit the meta learner on the train set and evaluate it on the test set\n",
        "meta_learner.fit(meta_data, meta_targets)\n",
        "pred_y = np.argmax(meta_learner.predict(test_meta_data), axis=1) \n",
        "pred_pr_y = meta_learner.predict_generator(test_meta_data)\n",
        "\n",
        "acc = metrics.accuracy_score(test_y, pred_y)\n",
        "\n",
        "# --- SECTION 6 ---\n",
        "# Print the results\n",
        "print('Acc  Name')\n",
        "print('-'*20) \n",
        "for i in range(len(base_learners)):\n",
        "    learner = base_learners[i]\n",
        "\n",
        "    print(f'{base_acc[i]:.2f} {learner.__class__.__name__}')\n",
        "print(f'{acc:.2f} Ensemble')"
      ],
      "metadata": {
        "colab": {
          "base_uri": "https://localhost:8080/"
        },
        "id": "Qe0aEcxCLmRX",
        "outputId": "7aa6894d-0ab2-4816-b6eb-a280e4278854"
      },
      "execution_count": null,
      "outputs": [
        {
          "output_type": "stream",
          "name": "stdout",
          "text": [
            "15/15 [==============================] - 0s 5ms/step - loss: 0.5772 - accuracy: 0.8440\n",
            "Acc  Name\n",
            "--------------------\n",
            "0.62 Sequential\n",
            "0.89 Sequential\n",
            "0.84 Sequential\n",
            "0.87 Ensemble\n"
          ]
        }
      ]
    }
  ]
}